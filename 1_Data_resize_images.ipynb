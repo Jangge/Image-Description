{
 "cells": [
  {
   "cell_type": "markdown",
   "id": "04f09b05",
   "metadata": {},
   "source": [
    "# ---------------------------------------------处理图片---------------------------------------------------\n",
    "- 重新设置图片大小\n",
    "- 对指定目录中的图像进行重新调整大小，输入为指定图像\n",
    "- 将调整后的图像保存到指定目录中"
   ]
  },
  {
   "cell_type": "code",
   "execution_count": 1,
   "id": "fa4864f2",
   "metadata": {},
   "outputs": [],
   "source": [
    "import argparse # 用于处理命令行参数的包\n",
    "import os   # 用于文件和目录的操作\n",
    "from PIL import Image # 用于处理图像"
   ]
  },
  {
   "cell_type": "code",
   "execution_count": 40,
   "id": "b8eef94e",
   "metadata": {},
   "outputs": [],
   "source": [
    "\"\"\"将图片调整到指定大小的方法\"\"\"\n",
    "def resize_image(image, size): \n",
    "    return image.resize(size, Image.Resampling.LANCZOS) # Image.ANTIALIAS表示使用康锯齿滤波来改善图像质量"
   ]
  },
  {
   "cell_type": "code",
   "execution_count": 41,
   "id": "651bd1fe",
   "metadata": {},
   "outputs": [],
   "source": [
    "\"\"\"对指定文件下的图片进行调整并将调整后的图像输出到指定目录\"\"\"\n",
    "def resize_images(image_dir, output_dir, size): # 图片输入目录，输出目录，和size作为参数\n",
    "    if not os.path.exists(output_dir): # 检查图像输出目录存不存在\n",
    "        os.makedirs(output_dir) #不存在的话就创建图像输出目录\n",
    "    \n",
    "    images = os.listdir(image_dir) #  os.listdir函数列出目录中的所有文件名，并将它们保存为images的列表\n",
    "    num_images = len(images) # 输出images列表的长度，也就是多少张图片\n",
    "    for i, image in enumerate(images): # 遍历images列表中的文件名，同时提供了循环索引i\n",
    "        with open(os.path.join(image_dir, image), 'r+b') as f: # os.path.join构建完整图片地址，并以二进制读写行形式打开\n",
    "            with Image.open(f) as img: # 打开图像\n",
    "                img = resize_image(img, size) # 调整图像大小\n",
    "                img.save(os.path.join(output_dir, image), img.format)# img.format用于包保留图像的格式\n",
    "        if (i+1) % 2 == 0: # 打印显示调整图片的进度\n",
    "            print(\"[{}/{}] Resized the images and saved into '{}'.\".format(i+1, num_images, output_dir))     "
   ]
  },
  {
   "cell_type": "code",
   "execution_count": 42,
   "id": "b20a4155",
   "metadata": {},
   "outputs": [
    {
     "name": "stdout",
     "output_type": "stream",
     "text": [
      "[2/20] Resized the images and saved into 'out'.\n",
      "[4/20] Resized the images and saved into 'out'.\n",
      "[6/20] Resized the images and saved into 'out'.\n",
      "[8/20] Resized the images and saved into 'out'.\n",
      "[10/20] Resized the images and saved into 'out'.\n",
      "[12/20] Resized the images and saved into 'out'.\n",
      "[14/20] Resized the images and saved into 'out'.\n",
      "[16/20] Resized the images and saved into 'out'.\n",
      "[18/20] Resized the images and saved into 'out'.\n",
      "[20/20] Resized the images and saved into 'out'.\n"
     ]
    }
   ],
   "source": [
    "\"\"\"此处是为了在jupyter中直接运行\"\"\"\n",
    "size = (256, 256)\n",
    "resize_images('t', 'out', size)"
   ]
  },
  {
   "cell_type": "markdown",
   "id": "745eec13",
   "metadata": {},
   "source": [
    "# --------下面是为了从外部运行需要的方法"
   ]
  },
  {
   "cell_type": "code",
   "execution_count": 33,
   "id": "1b3bac19",
   "metadata": {},
   "outputs": [],
   "source": [
    "\"\"\"定义命令行参数\"\"\"\n",
    "def main(args):\n",
    "    image_dir = args.image_dir\n",
    "    output_dir = args.output_dir\n",
    "    image_size = [args.image_size, args.image_size] # 这里假设宽度和高度相同，因此创建一个包含两个相同值的列表\n",
    "    resize_images(image_dir, output_dir, image_size)"
   ]
  },
  {
   "cell_type": "code",
   "execution_count": 34,
   "id": "ea0920af",
   "metadata": {
    "collapsed": true
   },
   "outputs": [
    {
     "name": "stderr",
     "output_type": "stream",
     "text": [
      "usage: ipykernel_launcher.py [-h] [--image_dir IMAGE_DIR] [--output_dir OUTPUT_DIR] [--images_size IMAGES_SIZE]\n",
      "ipykernel_launcher.py: error: unrecognized arguments: -f C:\\Users\\De\\AppData\\Roaming\\jupyter\\runtime\\kernel-cd72bc81-8dd6-4dfc-a53b-4c425d60eb63.json\n"
     ]
    },
    {
     "ename": "SystemExit",
     "evalue": "2",
     "output_type": "error",
     "traceback": [
      "An exception has occurred, use %tb to see the full traceback.\n",
      "\u001b[1;31mSystemExit\u001b[0m\u001b[1;31m:\u001b[0m 2\n"
     ]
    }
   ],
   "source": [
    "\"\"\" 这个条件语句是在脚本中用来判断是否应该执行特定的代码块。如果一个脚本是被导入到其他脚本中，\n",
    "那么__name__ 的值将不等于'__main__'，所以if __name__ == '__main__': 下面的代码块不会被执行。\n",
    "但如果一个脚本是直接执行的，__name__ 的值将等于'__main__'，于是if __name__ == '__main__': 下面的代码块会被执行。\n",
    "\"\"\"\n",
    "if __name__ == '__main__':\n",
    "    parser = argparse.ArgumentParser() # 创建一个解析器对象，用于处理命令行参数\n",
    "    parser.add_argument('--image_dir', type=str, default='t', help='directory for train images') # 指定输入图像目录\n",
    "    parser.add_argument('--output_dir', type=str, default='t/resized2014/', help='directory for saving resized image')\n",
    "    parser.add_argument('--images_size', type=int, default=256, help='size for image after processing') # 指定调整的大小\n",
    "    args = parser.parse_args() # 解析命令行参数，并将结果保存在 args 变量中\n",
    "    main(args) # 传递命令行参数作为参数，执行主要的图像处理操作。"
   ]
  },
  {
   "cell_type": "code",
   "execution_count": null,
   "id": "926c18ae",
   "metadata": {},
   "outputs": [],
   "source": []
  }
 ],
 "metadata": {
  "kernelspec": {
   "display_name": "machine_zzh",
   "language": "python",
   "name": "machine_zzh"
  },
  "language_info": {
   "codemirror_mode": {
    "name": "ipython",
    "version": 3
   },
   "file_extension": ".py",
   "mimetype": "text/x-python",
   "name": "python",
   "nbconvert_exporter": "python",
   "pygments_lexer": "ipython3",
   "version": "3.10.11"
  }
 },
 "nbformat": 4,
 "nbformat_minor": 5
}
